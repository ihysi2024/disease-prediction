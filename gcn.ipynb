{
 "cells": [
  {
   "cell_type": "code",
   "execution_count": 10,
   "metadata": {},
   "outputs": [
    {
     "ename": "ModuleNotFoundError",
     "evalue": "No module named 'ge'",
     "output_type": "error",
     "traceback": [
      "\u001b[0;31m---------------------------------------------------------------------------\u001b[0m",
      "\u001b[0;31mModuleNotFoundError\u001b[0m                       Traceback (most recent call last)",
      "\u001b[0;32m/local/tmp/ipykernel_24152/48366214.py\u001b[0m in \u001b[0;36m<module>\u001b[0;34m\u001b[0m\n\u001b[1;32m     23\u001b[0m \u001b[0;32mfrom\u001b[0m \u001b[0mtorch_geometric\u001b[0m\u001b[0;34m.\u001b[0m\u001b[0mnn\u001b[0m \u001b[0;32mimport\u001b[0m \u001b[0mGCNConv\u001b[0m\u001b[0;34m\u001b[0m\u001b[0;34m\u001b[0m\u001b[0m\n\u001b[1;32m     24\u001b[0m \u001b[0;32mfrom\u001b[0m \u001b[0msklearn\u001b[0m\u001b[0;34m.\u001b[0m\u001b[0mmanifold\u001b[0m \u001b[0;32mimport\u001b[0m \u001b[0mTSNE\u001b[0m\u001b[0;34m\u001b[0m\u001b[0;34m\u001b[0m\u001b[0m\n\u001b[0;32m---> 25\u001b[0;31m \u001b[0;32mfrom\u001b[0m \u001b[0mge\u001b[0m \u001b[0;32mimport\u001b[0m \u001b[0mDeepWalk\u001b[0m\u001b[0;34m\u001b[0m\u001b[0;34m\u001b[0m\u001b[0m\n\u001b[0m",
      "\u001b[0;31mModuleNotFoundError\u001b[0m: No module named 'ge'"
     ]
    }
   ],
   "source": [
    "from torch_geometric.datasets import Planetoid\n",
    "import torch\n",
    "import torch.nn.functional as F\n",
    "from torch_geometric.utils import add_self_loops, degree\n",
    "import networkx as nx\n",
    "import numpy as np\n",
    "import matplotlib.pyplot as plt\n",
    "import pickle\n",
    "import json\n",
    "from pathlib import Path\n",
    "import networkx as nx\n",
    "from torch_geometric.data import InMemoryDataset, download_url\n",
    "from torch_geometric.data import Data\n",
    "import os.path as osp\n",
    "from sklearn.preprocessing import StandardScaler\n",
    "from sklearn.model_selection import train_test_split\n",
    "import torch_geometric.transforms as T\n",
    "import pandas as pd\n",
    "from torch_geometric.utils import from_networkx, to_networkx\n",
    "from copy import deepcopy\n",
    "import pickle\n",
    "import torch.nn as nn\n",
    "from torch_geometric.nn import GCNConv\n",
    "from sklearn.manifold import TSNE\n",
    "from ge import DeepWalk\n"
   ]
  },
  {
   "cell_type": "code",
   "execution_count": 3,
   "metadata": {},
   "outputs": [],
   "source": [
    "G = nx.karate_club_graph()\n",
    "\n",
    "labels = np.asarray([G.nodes[i]['club'] != 'Mr. Hi' for i in G.nodes]).astype(np.int64)\n"
   ]
  },
  {
   "cell_type": "code",
   "execution_count": 9,
   "metadata": {},
   "outputs": [
    {
     "data": {
      "text/plain": [
       "<networkx.classes.graph.Graph at 0x2aab7ec0be50>"
      ]
     },
     "execution_count": 9,
     "metadata": {},
     "output_type": "execute_result"
    }
   ],
   "source": [
    "m = TSNE(learning_rate=20, random_state=42)\n",
    "tsne_features = m.fit_transform(list(embeddings.values()))"
   ]
  },
  {
   "cell_type": "code",
   "execution_count": null,
   "metadata": {},
   "outputs": [],
   "source": [
    "# train the model and generate embeddings\n",
    "model = DeepWalk(H, walk_length=10, num_walks=80, workers=1)\n",
    "model.train(window_size=5,iter=3)\n",
    "\n",
    "embeddings = model.get_embeddings()"
   ]
  },
  {
   "cell_type": "code",
   "execution_count": 1,
   "metadata": {},
   "outputs": [
    {
     "ename": "NameError",
     "evalue": "name 'torch' is not defined",
     "output_type": "error",
     "traceback": [
      "\u001b[0;31m---------------------------------------------------------------------------\u001b[0m",
      "\u001b[0;31mNameError\u001b[0m                                 Traceback (most recent call last)",
      "\u001b[0;32m/local/tmp/ipykernel_24152/3783964283.py\u001b[0m in \u001b[0;36m<module>\u001b[0;34m\u001b[0m\n\u001b[0;32m----> 1\u001b[0;31m \u001b[0;32mclass\u001b[0m \u001b[0mNet\u001b[0m\u001b[0;34m(\u001b[0m\u001b[0mtorch\u001b[0m\u001b[0;34m.\u001b[0m\u001b[0mnn\u001b[0m\u001b[0;34m.\u001b[0m\u001b[0mModule\u001b[0m\u001b[0;34m)\u001b[0m\u001b[0;34m:\u001b[0m\u001b[0;34m\u001b[0m\u001b[0;34m\u001b[0m\u001b[0m\n\u001b[0m\u001b[1;32m      2\u001b[0m     \u001b[0;32mdef\u001b[0m \u001b[0m__init__\u001b[0m\u001b[0;34m(\u001b[0m\u001b[0mself\u001b[0m\u001b[0;34m)\u001b[0m\u001b[0;34m:\u001b[0m\u001b[0;34m\u001b[0m\u001b[0;34m\u001b[0m\u001b[0m\n\u001b[1;32m      3\u001b[0m         \u001b[0msuper\u001b[0m\u001b[0;34m(\u001b[0m\u001b[0mNet\u001b[0m\u001b[0;34m,\u001b[0m \u001b[0mself\u001b[0m\u001b[0;34m)\u001b[0m\u001b[0;34m.\u001b[0m\u001b[0m__init__\u001b[0m\u001b[0;34m(\u001b[0m\u001b[0;34m)\u001b[0m\u001b[0;34m\u001b[0m\u001b[0;34m\u001b[0m\u001b[0m\n\u001b[1;32m      4\u001b[0m         \u001b[0mself\u001b[0m\u001b[0;34m.\u001b[0m\u001b[0mconv1\u001b[0m \u001b[0;34m=\u001b[0m \u001b[0mGCNConv\u001b[0m\u001b[0;34m(\u001b[0m\u001b[0mdata\u001b[0m\u001b[0;34m.\u001b[0m\u001b[0mnum_features\u001b[0m\u001b[0;34m,\u001b[0m \u001b[0;36m16\u001b[0m\u001b[0;34m)\u001b[0m\u001b[0;34m\u001b[0m\u001b[0;34m\u001b[0m\u001b[0m\n\u001b[1;32m      5\u001b[0m         \u001b[0mself\u001b[0m\u001b[0;34m.\u001b[0m\u001b[0mconv2\u001b[0m \u001b[0;34m=\u001b[0m \u001b[0mGCNConv\u001b[0m\u001b[0;34m(\u001b[0m\u001b[0;36m16\u001b[0m\u001b[0;34m,\u001b[0m \u001b[0mint\u001b[0m\u001b[0;34m(\u001b[0m\u001b[0mdata\u001b[0m\u001b[0;34m.\u001b[0m\u001b[0mnum_classes\u001b[0m\u001b[0;34m)\u001b[0m\u001b[0;34m)\u001b[0m\u001b[0;34m\u001b[0m\u001b[0;34m\u001b[0m\u001b[0m\n",
      "\u001b[0;31mNameError\u001b[0m: name 'torch' is not defined"
     ]
    }
   ],
   "source": [
    "class Net(torch.nn.Module):\n",
    "    def __init__(self):\n",
    "        super(Net, self).__init__()\n",
    "        self.conv1 = GCNConv(data.num_features, 16)\n",
    "        self.conv2 = GCNConv(16, int(data.num_classes))\n",
    "\n",
    "    def forward(self):\n",
    "        x, edge_index = data.x, data.edge_index\n",
    "        x = F.relu(self.conv1(x, edge_index))\n",
    "        # x = F.dropout(x, training=self.training)\n",
    "        x = self.conv2(x, edge_index)\n",
    "        return F.log_softmax(x, dim=1)"
   ]
  },
  {
   "cell_type": "code",
   "execution_count": 3,
   "metadata": {},
   "outputs": [],
   "source": [
    "def plot_dataset(dataset):\n",
    "    edges_raw = dataset.data.edge_index.numpy()\n",
    "    edges = [(x, y) for x, y in zip(edges_raw[0, :], edges_raw[1, :])]\n",
    "    labels = dataset.data.y.numpy()\n",
    "\n",
    "    G = nx.Graph()\n",
    "    G.add_nodes_from(list(range(np.max(edges_raw))))\n",
    "    G.add_edges_from(edges)\n",
    "    plt.subplot(111)\n",
    "    options = {\n",
    "                'node_size': 30,\n",
    "                'width': 0.2,\n",
    "    }\n",
    "    nx.draw(G, with_labels=False, node_color=labels.tolist(), cmap=plt.cm.tab10, font_weight='bold', **options)\n",
    "    plt.show()"
   ]
  },
  {
   "cell_type": "code",
   "execution_count": 7,
   "metadata": {},
   "outputs": [],
   "source": [
    "scale = StandardScaler()\n",
    "# Opening JSON file\n",
    "f = open('/gstore/scratch/u/hysii/nlp/original_dataset')\n",
    "  \n",
    "# returns JSON object as \n",
    "# a dictionary\n",
    "json_data = json.load(f)\n"
   ]
  },
  {
   "cell_type": "code",
   "execution_count": 8,
   "metadata": {},
   "outputs": [],
   "source": [
    "all_sympts = []\n",
    "\n",
    "for key, other_info in json_data.items():\n",
    "    for s in other_info['symptoms'].keys():\n",
    "        all_sympts.append(s)\n"
   ]
  },
  {
   "cell_type": "code",
   "execution_count": 9,
   "metadata": {},
   "outputs": [],
   "source": [
    "unique_sympts = []\n",
    "for i, sympt in enumerate(all_sympts):\n",
    "    counter = 0\n",
    "    \n",
    "    for idx, s in enumerate(all_sympts):\n",
    "        if sympt == s and i != idx:\n",
    "            counter += 1\n",
    "    \n",
    "    if counter == 0:\n",
    "        unique_sympts.append(sympt)"
   ]
  },
  {
   "cell_type": "code",
   "execution_count": 10,
   "metadata": {},
   "outputs": [
    {
     "name": "stdout",
     "output_type": "stream",
     "text": [
      "larmes\n",
      "vo_violent\n",
      "ww_bouger\n",
      "pyrosis\n",
      "ww_bouffe\n",
      "pale\n",
      "rectorragie\n",
      "ménorr\n",
      "ballon_abdo\n",
      "ww_valsalva\n",
      "obstipation\n",
      "dysarthrie\n",
      "diplopie\n",
      "fatigabilité_msk\n",
      "claud_mâchoire\n",
      "posttus_emesis\n",
      "insp_siffla\n",
      "contact_allergie\n",
      "bw_bending\n",
      "faiblesse faciale\n",
      "footnumb\n",
      "paralysie_visage\n",
      "toux_Aboy\n",
      "pls_irreg\n",
      "prurit_occ\n",
      "prurit_nasal\n",
      "rds_anorexie\n",
      "flushing\n",
      "dysp_effort\n",
      "laryngospasme\n",
      "spasmes_msk\n",
      "trismus\n",
      "spasme_trapeze\n",
      "protu_langue\n",
      "regard_dévié\n",
      "gain_poids\n",
      "ulcères_bouche\n",
      "angor_accelere\n",
      "rds_sg\n",
      "confusion\n",
      "etouff\n",
      "psy_depers\n",
      "impression_mort\n",
      "boire_ped\n",
      "apnee\n",
      "erytheme_occ\n",
      "convulsion\n",
      "pertes_vag\n",
      "selles_pale\n"
     ]
    }
   ],
   "source": [
    "path_to_symptoms = {}\n",
    "\n",
    "for key, other_info in json_data.items():\n",
    "    symp_lst = []\n",
    "    for s in unique_sympts:\n",
    "        if s in other_info['symptoms'].keys():\n",
    "            print(s)\n",
    "            symp_lst.append(s)\n",
    "    \n",
    "    if len(symp_lst) != 0:\n",
    "        path_to_symptoms[key] = symp_lst"
   ]
  },
  {
   "cell_type": "code",
   "execution_count": 11,
   "metadata": {},
   "outputs": [],
   "source": [
    "with open('/gstore/scratch/u/hysii/nlp/unique_symptoms.json', 'w') as f:\n",
    "    json.dump(path_to_symptoms, f)"
   ]
  },
  {
   "cell_type": "code",
   "execution_count": 12,
   "metadata": {},
   "outputs": [],
   "source": [
    "with open('/gstore/scratch/u/hysii/nlp/unique_symptoms.json', 'r') as f:\n",
    "    data = json.load(f)"
   ]
  },
  {
   "cell_type": "code",
   "execution_count": 13,
   "metadata": {},
   "outputs": [],
   "source": [
    "G = nx.Graph(data)\n",
    "\n",
    "with open('/gstore/scratch/u/hysii/nlp/graph.pckl', 'wb') as f:\n",
    "    graph = pickle.dump(G, f)\n",
    "\n",
    "embeddings = np.array(list(dict(G.degree()).values()))\n",
    "scale = StandardScaler()\n",
    "embeddings = scale.fit_transform(embeddings.reshape(-1,1))"
   ]
  },
  {
   "cell_type": "code",
   "execution_count": 17,
   "metadata": {},
   "outputs": [],
   "source": [
    "labels = []\n",
    "\n",
    "for idx, (key, u_sympts) in enumerate(path_to_symptoms.items()):\n",
    "    labels.append(idx)\n",
    "    for s in u_sympts:\n",
    "        labels.append(idx)\n",
    "\n",
    "labels = np.array(labels)"
   ]
  },
  {
   "cell_type": "code",
   "execution_count": 30,
   "metadata": {},
   "outputs": [
    {
     "data": {
      "text/plain": [
       "array([[-0.36848377],\n",
       "       [-0.36848377],\n",
       "       [-0.36848377],\n",
       "       [ 0.83309374],\n",
       "       [ 2.03467124],\n",
       "       [ 2.03467124],\n",
       "       [ 3.23624875],\n",
       "       [ 0.83309374],\n",
       "       [-0.36848377],\n",
       "       [-0.36848377],\n",
       "       [ 2.03467124],\n",
       "       [-0.36848377],\n",
       "       [-0.36848377],\n",
       "       [ 0.83309374],\n",
       "       [-0.36848377],\n",
       "       [-0.36848377],\n",
       "       [-0.36848377],\n",
       "       [ 5.63940376],\n",
       "       [-0.36848377],\n",
       "       [-0.36848377],\n",
       "       [-0.36848377],\n",
       "       [ 0.83309374],\n",
       "       [ 2.03467124],\n",
       "       [ 0.83309374],\n",
       "       [ 2.03467124],\n",
       "       [-0.36848377],\n",
       "       [-0.36848377],\n",
       "       [-0.36848377],\n",
       "       [-0.36848377],\n",
       "       [-0.36848377],\n",
       "       [-0.36848377],\n",
       "       [-0.36848377],\n",
       "       [-0.36848377],\n",
       "       [-0.36848377],\n",
       "       [-0.36848377],\n",
       "       [-0.36848377],\n",
       "       [-0.36848377],\n",
       "       [-0.36848377],\n",
       "       [-0.36848377],\n",
       "       [-0.36848377],\n",
       "       [-0.36848377],\n",
       "       [-0.36848377],\n",
       "       [-0.36848377],\n",
       "       [-0.36848377],\n",
       "       [-0.36848377],\n",
       "       [-0.36848377],\n",
       "       [-0.36848377],\n",
       "       [-0.36848377],\n",
       "       [-0.36848377],\n",
       "       [-0.36848377],\n",
       "       [-0.36848377],\n",
       "       [-0.36848377],\n",
       "       [-0.36848377],\n",
       "       [-0.36848377],\n",
       "       [-0.36848377],\n",
       "       [-0.36848377],\n",
       "       [-0.36848377],\n",
       "       [-0.36848377],\n",
       "       [-0.36848377],\n",
       "       [-0.36848377],\n",
       "       [-0.36848377],\n",
       "       [-0.36848377],\n",
       "       [-0.36848377],\n",
       "       [-0.36848377],\n",
       "       [-0.36848377],\n",
       "       [-0.36848377],\n",
       "       [-0.36848377],\n",
       "       [-0.36848377],\n",
       "       [-0.36848377],\n",
       "       [-0.36848377],\n",
       "       [-0.36848377],\n",
       "       [-0.36848377],\n",
       "       [-0.36848377],\n",
       "       [-0.36848377],\n",
       "       [-0.36848377]])"
      ]
     },
     "execution_count": 30,
     "metadata": {},
     "output_type": "execute_result"
    }
   ],
   "source": [
    "embeddings"
   ]
  },
  {
   "cell_type": "code",
   "execution_count": 26,
   "metadata": {},
   "outputs": [],
   "source": [
    "class MyDataset(InMemoryDataset):\n",
    "    def __init__(self, root, transform=None, pre_transform=None):\n",
    "        super(MyDataset, self).__init__(root, transform, None, None)\n",
    "        data = from_networkx(G)\n",
    "\n",
    "        data.num_nodes = G.number_of_nodes()\n",
    "        \n",
    "        # embedding \n",
    "        data.x = torch.from_numpy(embeddings).type(torch.float32)\n",
    "        \n",
    "        # labels\n",
    "        y = torch.from_numpy(labels).type(torch.long)\n",
    "        data.y = y.clone().detach()\n",
    "        \n",
    "        data.num_classes = len(path_to_symptoms.keys())\n",
    "\n",
    "        # splitting the data into train, validation and test\n",
    "        X_train, X_test, y_train, y_test = train_test_split(pd.Series(list(G.nodes)), \n",
    "                                                            pd.Series(labels),\n",
    "                                                            test_size=0.30, \n",
    "                                                            random_state=42)\n",
    "        \n",
    "        n_nodes = G.number_of_nodes()\n",
    "        # create train and test masks for data\n",
    "        train_mask = torch.zeros(n_nodes, dtype=torch.bool)\n",
    "        test_mask = torch.zeros(n_nodes, dtype=torch.bool)\n",
    "        train_mask[X_train.index] = True\n",
    "        test_mask[X_test.index] = True\n",
    "        data['train_mask'] = train_mask\n",
    "        data['test_mask'] = test_mask\n",
    "\n",
    "        self.data, self.slices = self.collate([data])\n",
    "        \n",
    "    def _download(self):\n",
    "        return\n",
    "\n",
    "    def _process(self):\n",
    "        return\n",
    "\n",
    "    def __repr__(self):\n",
    "        return '{}()'.format(self.__class__.__name__)"
   ]
  },
  {
   "cell_type": "code",
   "execution_count": 32,
   "metadata": {},
   "outputs": [
    {
     "name": "stdout",
     "output_type": "stream",
     "text": [
      "Data(edge_index=[2, 98], num_nodes=75, x=[75, 1], y=[75], num_classes=26, train_mask=[75], test_mask=[75])\n"
     ]
    }
   ],
   "source": [
    "dataset = MyDataset(Path('/gstore/scratch/u/hysii/nlp/graph.pckl'))\n",
    "data = dataset[0]\n",
    "print(dataset[0])"
   ]
  },
  {
   "cell_type": "code",
   "execution_count": 28,
   "metadata": {},
   "outputs": [],
   "source": [
    "device = torch.device('cuda' if torch.cuda.is_available() else 'cpu')\n",
    "data =  data.to(device)\n",
    "model = Net().to(device) "
   ]
  },
  {
   "cell_type": "code",
   "execution_count": 29,
   "metadata": {},
   "outputs": [
    {
     "name": "stdout",
     "output_type": "stream",
     "text": [
      "######################################################################\n",
      "Train Accuracy: 0.25\n",
      "Test Accuracy: 0.08695652173913043\n",
      "######################################################################\n"
     ]
    }
   ],
   "source": [
    "torch.manual_seed(42)\n",
    "\n",
    "optimizer_name = \"Adam\"\n",
    "lr = 1e-1\n",
    "optimizer = getattr(torch.optim, optimizer_name)(model.parameters(), lr=lr)\n",
    "epochs = 200\n",
    "\n",
    "def train():\n",
    "  model.train()\n",
    "  optimizer.zero_grad()\n",
    "  F.nll_loss(model()[data.train_mask], data.y[data.train_mask]).backward()\n",
    "  optimizer.step()\n",
    "\n",
    "@torch.no_grad()\n",
    "def test():\n",
    "  model.eval()\n",
    "  logits = model()\n",
    "  mask1 = data['train_mask']\n",
    "  pred1 = logits[mask1].max(1)[1]\n",
    "  acc1 = pred1.eq(data.y[mask1]).sum().item() / mask1.sum().item()\n",
    "  mask = data['test_mask']\n",
    "  pred = logits[mask].max(1)[1]\n",
    "  acc = pred.eq(data.y[mask]).sum().item() / mask.sum().item()\n",
    "  return acc1,acc\n",
    "\n",
    "for epoch in range(1, epochs):\n",
    "  train()\n",
    "\n",
    "train_acc,test_acc = test()\n",
    "\n",
    "print('#' * 70)\n",
    "print('Train Accuracy: %s' %train_acc )\n",
    "print('Test Accuracy: %s' % test_acc)\n",
    "print('#' * 70)"
   ]
  },
  {
   "cell_type": "code",
   "execution_count": 44,
   "metadata": {},
   "outputs": [
    {
     "name": "stdout",
     "output_type": "stream",
     "text": [
      "tensor([False,  True,  True,  True, False, False,  True,  True,  True, False,\n",
      "        False,  True, False,  True,  True,  True, False,  True, False,  True,\n",
      "         True,  True, False,  True,  True,  True,  True,  True, False,  True,\n",
      "         True,  True,  True, False, False, False,  True,  True,  True, False,\n",
      "        False,  True, False,  True,  True,  True,  True,  True,  True, False,\n",
      "         True,  True,  True,  True,  True,  True, False,  True,  True,  True,\n",
      "         True, False,  True, False, False,  True, False,  True,  True, False,\n",
      "         True,  True,  True,  True,  True])\n",
      "tensor([ 8,  8, 17,  3, 17,  8,  8, 17,  8,  8,  6,  8,  8, 17, 17,  7,  8,  8,\n",
      "         8, 17, 17, 10, 10, 10, 13, 13, 17,  8,  8, 10, 10, 10,  8, 17, 17,  8,\n",
      "         8,  8, 21, 21, 21, 21, 21,  8, 17, 10, 10, 17, 10, 10, 10,  8])\n",
      "13\n"
     ]
    }
   ],
   "source": [
    "mask1 = data['train_mask']\n",
    "print(mask1)\n",
    "logits = model()\n",
    "pred1 = logits[mask1].max(1)[1]\n",
    "print(pred1)\n",
    "acc1 = pred1.eq(data.y[mask1]).sum().item() / mask1.sum().item()\n",
    "print(pred1.eq(data.y[mask1]).sum().item())\n",
    "print9\n",
    "mask = data['test_mask']\n",
    "pred = logits[mask].max(1)[1]\n",
    "acc = pred.eq(data.y[mask]).sum().item() / mask.sum().item()"
   ]
  },
  {
   "cell_type": "code",
   "execution_count": null,
   "metadata": {},
   "outputs": [
    {
     "ename": "",
     "evalue": "",
     "output_type": "error",
     "traceback": [
      "\u001b[1;31mFailed to start the Kernel. \n",
      "\u001b[1;31mCannot execute code, session has been disposed. \n",
      "\u001b[1;31mView Jupyter <a href='command:jupyter.viewOutput'>log</a> for further details."
     ]
    }
   ],
   "source": [
    "labels"
   ]
  },
  {
   "cell_type": "code",
   "execution_count": null,
   "metadata": {},
   "outputs": [],
   "source": [
    "G.process_node_features()"
   ]
  }
 ],
 "metadata": {
  "kernelspec": {
   "display_name": "ira_ssl",
   "language": "python",
   "name": "python3"
  },
  "language_info": {
   "codemirror_mode": {
    "name": "ipython",
    "version": 3
   },
   "file_extension": ".py",
   "mimetype": "text/x-python",
   "name": "python",
   "nbconvert_exporter": "python",
   "pygments_lexer": "ipython3",
   "version": "3.7.13"
  },
  "orig_nbformat": 4,
  "vscode": {
   "interpreter": {
    "hash": "f1c9c9244ec912227f843a1ca0e88552f3e3ecc30229065d9dfc3f64de041fb5"
   }
  }
 },
 "nbformat": 4,
 "nbformat_minor": 2
}
